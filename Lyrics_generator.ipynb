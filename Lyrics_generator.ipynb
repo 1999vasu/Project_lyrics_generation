{
 "cells": [
  {
   "cell_type": "code",
   "execution_count": 1,
   "metadata": {
    "colab": {},
    "colab_type": "code",
    "id": "yTPH6S2prBW7"
   },
   "outputs": [],
   "source": [
    "import numpy as np\n",
    "import random\n",
    "import os \n",
    "import pandas as pd"
   ]
  },
  {
   "cell_type": "code",
   "execution_count": 2,
   "metadata": {
    "colab": {
     "base_uri": "https://localhost:8080/",
     "height": 52
    },
    "colab_type": "code",
    "id": "6rhERp4Or1jm",
    "outputId": "f975f737-63c3-4791-d48a-3d364f4e7c57"
   },
   "outputs": [
    {
     "name": "stdout",
     "output_type": "stream",
     "text": [
      "Index(['artist', 'song', 'link', 'text'], dtype='object')\n",
      "(10000, 4)\n"
     ]
    }
   ],
   "source": [
    "# Data Preparation\n",
    "\n",
    "data = pd.read_csv(\"./songdata.csv\")\n",
    "print(data.columns)\n",
    "X = data.values\n",
    "random.shuffle(X)\n",
    "X = X[:10000]\n",
    "print(X.shape)"
   ]
  },
  {
   "cell_type": "code",
   "execution_count": 3,
   "metadata": {
    "colab": {},
    "colab_type": "code",
    "id": "iKouOmzMsLT9"
   },
   "outputs": [],
   "source": [
    "X = X[:,-1]\n",
    "data  = ''\n",
    "for ix in X:\n",
    "    for mx in ix.split('\\n'):\n",
    "        data += mx\n",
    "# print(data)\n",
    "\n"
   ]
  },
  {
   "cell_type": "code",
   "execution_count": 4,
   "metadata": {
    "colab": {
     "base_uri": "https://localhost:8080/",
     "height": 34
    },
    "colab_type": "code",
    "id": "qYXR8AyUsfwT",
    "outputId": "d61355b2-53f4-4bdc-cb8b-31840edc0ef1"
   },
   "outputs": [
    {
     "name": "stdout",
     "output_type": "stream",
     "text": [
      "11076424\n"
     ]
    }
   ],
   "source": [
    "print(len(data))"
   ]
  },
  {
   "cell_type": "code",
   "execution_count": 5,
   "metadata": {
    "colab": {},
    "colab_type": "code",
    "id": "-E4_d0Oqu4Dc"
   },
   "outputs": [],
   "source": [
    "Dict = {}\n",
    "order = 5\n",
    "\n",
    "for ix in range(len(data)-order):\n",
    "    context = data[ix:ix+order]\n",
    "    \n",
    "    next_letter = data[ix+order]\n",
    "    \n",
    "    if Dict.get(context) is None:\n",
    "        Dict[context] = {}\n",
    "        Dict[context][next_letter] = 1\n",
    "    else:\n",
    "        if Dict[context].get(next_letter) is None:\n",
    "            Dict[context][next_letter] = 1\n",
    "        else:\n",
    "            Dict[context][next_letter] += 1\n",
    "for kx in Dict.keys():\n",
    "    den = float(sum(Dict[kx].values()))\n",
    "    \n",
    "    for k in Dict[kx].keys():\n",
    "        Dict[kx][k] = Dict[kx][k]/den"
   ]
  },
  {
   "cell_type": "code",
   "execution_count": 6,
   "metadata": {
    "colab": {},
    "colab_type": "code",
    "id": "KKLumAAHxZIC"
   },
   "outputs": [],
   "source": [
    "def generate_next(context):\n",
    "    \n",
    "    possible = Dict.get(context)\n",
    "    \n",
    "    if possible is None:\n",
    "        return \" \"\n",
    "    \n",
    "    shuffled_keys = []\n",
    "    for ix in possible.keys():\n",
    "        shuffled_keys.append(ix)\n",
    "    \n",
    "    keys_probs = []\n",
    "    for ix in shuffled_keys:\n",
    "        keys_probs.append(possible[ix])\n",
    "#     print(keys_probs)\n",
    "    \n",
    "    return np.random.choice(shuffled_keys,p=keys_probs)"
   ]
  },
  {
   "cell_type": "code",
   "execution_count": 8,
   "metadata": {
    "colab": {
     "base_uri": "https://localhost:8080/",
     "height": 54
    },
    "colab_type": "code",
    "id": "6AQr9pUNzCgO",
    "outputId": "3c6048e3-c914-41ee-f8c2-c0fec0789586"
   },
   "outputs": [
    {
     "name": "stdout",
     "output_type": "stream",
     "text": [
      "There I am return me    I like another storm and got your song of the dearSitting  I want to make it of me, she same down  'Cause it on the window (there never know  Oh it's Christmas with things I've forever love on babe, I just one was turn it and tell ya, da, daba, dab,\"  Sail on my arms aroundin on the her day  It won't say and chance    Like a boom-a-boomerang  Dancing is love had some ago  She same be cruel  I am  Under this way is tonight, grapefruit  This is gonna tell you dear  See the flood  As thebang, I said, \"Don't take it another  And sun  But loud and mind  It look around  When I mean age with thorough our eyes,  Coz I'm on my feet  I'm moving around an empty skin is heart    Now your lovin'  He's every the why, I'm alive.    Yes, they chains all and walks, single lamb  But your cave face  This words will be mine  Leave her  Can I can go down home    Yes I must pretty piss  gimme yesterday  I cries  Industrial think that everybody for you    Please, yeah!Last night  How can y\n"
     ]
    }
   ],
   "source": [
    "context = 'There'\n",
    "sentence = '' + context\n",
    "\n",
    "for ix in range(1000):\n",
    "    nxt = generate_next(context)\n",
    "    sentence += nxt\n",
    "    context = sentence[-order:]\n",
    "    \n",
    "print(sentence)"
   ]
  },
  {
   "cell_type": "code",
   "execution_count": null,
   "metadata": {
    "colab": {},
    "colab_type": "code",
    "id": "neyzIHrwzkOD"
   },
   "outputs": [],
   "source": []
  }
 ],
 "metadata": {
  "accelerator": "GPU",
  "colab": {
   "collapsed_sections": [],
   "name": "Untitled0.ipynb",
   "provenance": [],
   "version": "0.3.2"
  },
  "kernelspec": {
   "display_name": "Python 3",
   "language": "python",
   "name": "python3"
  },
  "language_info": {
   "codemirror_mode": {
    "name": "ipython",
    "version": 3
   },
   "file_extension": ".py",
   "mimetype": "text/x-python",
   "name": "python",
   "nbconvert_exporter": "python",
   "pygments_lexer": "ipython3",
   "version": "3.6.7"
  }
 },
 "nbformat": 4,
 "nbformat_minor": 1
}
